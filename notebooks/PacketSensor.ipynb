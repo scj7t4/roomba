{
 "cells": [
  {
   "cell_type": "code",
   "execution_count": 1,
   "metadata": {
    "collapsed": false
   },
   "outputs": [],
   "source": [
    "%load_ext autoreload"
   ]
  },
  {
   "cell_type": "code",
   "execution_count": 13,
   "metadata": {
    "collapsed": false
   },
   "outputs": [],
   "source": [
    "import src.control.openinterface.commands as commands\n",
    "import src.control.openinterface.query as query\n",
    "import src.control.openinterface.packets as packets\n",
    "import serial\n",
    "\n",
    "%autoreload\n",
    "%aimport -serial"
   ]
  },
  {
   "cell_type": "code",
   "execution_count": 21,
   "metadata": {
    "collapsed": false
   },
   "outputs": [
    {
     "name": "stdout",
     "output_type": "stream",
     "text": [
      "/dev/ttyUSB0\n"
     ]
    }
   ],
   "source": [
    "ser = serial.Serial('/dev/ttyUSB0', 115200, timeout=0)\n",
    "\n",
    "def block_read(ser, num):\n",
    "    reading = bytes([])\n",
    "    while len(reading) < num:\n",
    "        reading += ser.read(num)\n",
    "    return reading\n",
    "\n",
    "print(ser.name)"
   ]
  },
  {
   "cell_type": "code",
   "execution_count": 4,
   "metadata": {
    "collapsed": false
   },
   "outputs": [],
   "source": [
    "for i in range(10):\n",
    "    ser.write(commands.start())"
   ]
  },
  {
   "cell_type": "code",
   "execution_count": 23,
   "metadata": {
    "collapsed": false
   },
   "outputs": [
    {
     "name": "stdout",
     "output_type": "stream",
     "text": [
      "13\n",
      "b'\\x8c\\x00\\r@@>@<@>@@@@@@\\x80>@>@>\\x80@@@@@\\x80'\n"
     ]
    }
   ],
   "source": [
    "song = [ (64, 64), (62, 64), (60, 64), (62,64), (64,64), (64,64), \n",
    "        (64, 128), (62, 64), (62, 64), (62, 128), (64, 64), (64, 64),\n",
    "        (64, 128) ]\n",
    "\n",
    "print(len(song))\n",
    "\n",
    "cmd = commands.song(0, song)\n",
    "print(cmd)"
   ]
  },
  {
   "cell_type": "code",
   "execution_count": 33,
   "metadata": {
    "collapsed": false
   },
   "outputs": [
    {
     "name": "stdout",
     "output_type": "stream",
     "text": [
      "15\n",
      "b'\\x8c\\x00\\x0f@ @ A C C A @ > < < > @ @0>\\x10>\\xff'\n"
     ]
    }
   ],
   "source": [
    "song = [(64, 32), (64, 32), (65, 32), (67, 32), (67, 32), (65, 32), \n",
    "(64, 32), (62, 32), (60, 32), (60, 32), (62, 32), (64, 32),\n",
    "(64, 48), (62, 16), (62, 255)]\n",
    "\n",
    "print(len(song))\n",
    "\n",
    "cmd = commands.song(0, song)\n",
    "print(cmd)"
   ]
  },
  {
   "cell_type": "code",
   "execution_count": 49,
   "metadata": {
    "collapsed": false
   },
   "outputs": [
    {
     "name": "stdout",
     "output_type": "stream",
     "text": [
      "16\n",
      "b'\\x8c\\x02\\x101\\x102 \\x1e@1\\x102 \\x1e@1\\x102\\x101\\x102\\x101\\x102\\x101\\x102\\x101\\x102\\x10'\n"
     ]
    }
   ],
   "source": [
    "song = [(49, 16), (50, 32), (30, 64), (49, 16), (50, 32), (30, 64),\n",
    "(49, 16), (50, 16), (49, 16), (50, 16), (49, 16), (50, 16), \n",
    "(49, 16), (50, 16), (49, 16), (50, 16)]\n",
    "\n",
    "print(len(song))\n",
    "\n",
    "cmd = commands.song(2, song)\n",
    "print(cmd)"
   ]
  },
  {
   "cell_type": "code",
   "execution_count": 8,
   "metadata": {
    "collapsed": false
   },
   "outputs": [
    {
     "name": "stdout",
     "output_type": "stream",
     "text": [
      "16\n"
     ]
    },
    {
     "data": {
      "text/plain": [
       "35"
      ]
     },
     "execution_count": 8,
     "metadata": {},
     "output_type": "execute_result"
    }
   ],
   "source": [
    "song0 = [(76, 16), (75, 16), (76, 16), (75, 16), (76, 16), (71, 16), \n",
    "(74, 16), (72, 16), (69, 16), (52, 16), (57, 16), (60, 16), \n",
    "(64, 16), (69, 16), (71, 16), (52, 16)]\n",
    "\n",
    "print(len(song0))\n",
    "\n",
    "cmd = commands.song(0, song0)\n",
    "ser.write(cmd)"
   ]
  },
  {
   "cell_type": "code",
   "execution_count": 7,
   "metadata": {
    "collapsed": false
   },
   "outputs": [
    {
     "name": "stdout",
     "output_type": "stream",
     "text": [
      "16\n"
     ]
    },
    {
     "data": {
      "text/plain": [
       "35"
      ]
     },
     "execution_count": 7,
     "metadata": {},
     "output_type": "execute_result"
    }
   ],
   "source": [
    "song1 =  [(56, 16), (64, 16), (68, 16), (71, 16), (72, 16), (52, 16), \n",
    "(57, 16), (64, 16), (76, 16), (75, 16), (76, 16), (75, 16), \n",
    "(76, 16), (71, 16), (74, 16), (72, 16)]\n",
    "print(len(song1))\n",
    "\n",
    "cmd = commands.song(1, song1)\n",
    "ser.write(cmd)"
   ]
  },
  {
   "cell_type": "code",
   "execution_count": 9,
   "metadata": {
    "collapsed": false
   },
   "outputs": [
    {
     "name": "stdout",
     "output_type": "stream",
     "text": [
      "13\n"
     ]
    },
    {
     "data": {
      "text/plain": [
       "29"
      ]
     },
     "execution_count": 9,
     "metadata": {},
     "output_type": "execute_result"
    }
   ],
   "source": [
    "song2 =[(69, 16), (52, 16), (57, 16), (60, 16), (64, 16), (69, 16), \n",
    "(71, 16), (52, 16), (56, 16), (64, 16), (72, 16), (71, 16),\n",
    "(69, 64)] \n",
    "\n",
    "\n",
    "print(len(song2))\n",
    "\n",
    "cmd = commands.song(2, song2)\n",
    "ser.write(cmd)"
   ]
  },
  {
   "cell_type": "code",
   "execution_count": 14,
   "metadata": {
    "collapsed": false
   },
   "outputs": [
    {
     "name": "stdout",
     "output_type": "stream",
     "text": [
      "S0\n",
      "S1\n",
      "S2\n"
     ]
    }
   ],
   "source": [
    "import time\n",
    "songs = [song0, song1, song2]\n",
    "for i, song in enumerate(songs):\n",
    "    duration = sum(map(lambda x: x[1], song))\n",
    "    duration += 1\n",
    "    duration /= 64.0\n",
    "    print(\"S{}\".format(i))\n",
    "    ser.write(commands.play(i%4))\n",
    "    time.sleep(duration)\n",
    "    ser.write(commands.song(i%4, song))"
   ]
  },
  {
   "cell_type": "code",
   "execution_count": 5,
   "metadata": {
    "collapsed": false
   },
   "outputs": [
    {
     "data": {
      "text/plain": [
       "1"
      ]
     },
     "execution_count": 5,
     "metadata": {},
     "output_type": "execute_result"
    }
   ],
   "source": [
    "ser.write(commands.mode_full())"
   ]
  },
  {
   "cell_type": "code",
   "execution_count": 22,
   "metadata": {
    "collapsed": false
   },
   "outputs": [
    {
     "name": "stdout",
     "output_type": "stream",
     "text": [
      "2\n"
     ]
    }
   ],
   "source": [
    "ser.write(query.sensors(7))\n",
    "resp = block_read(ser, 1)\n",
    "s = packets.BumpAndWheelDrop(resp)\n",
    "print(s.uint)"
   ]
  },
  {
   "cell_type": "code",
   "execution_count": 82,
   "metadata": {
    "collapsed": false
   },
   "outputs": [
    {
     "data": {
      "text/plain": [
       "5"
      ]
     },
     "execution_count": 82,
     "metadata": {},
     "output_type": "execute_result"
    }
   ],
   "source": [
    "ser.write(commands.drive(0,0))"
   ]
  },
  {
   "cell_type": "code",
   "execution_count": 75,
   "metadata": {
    "collapsed": false
   },
   "outputs": [
    {
     "data": {
      "text/plain": [
       "2"
      ]
     },
     "execution_count": 75,
     "metadata": {},
     "output_type": "execute_result"
    }
   ],
   "source": [
    "ser.write(commands.motors(False, False, False, False, False))"
   ]
  },
  {
   "cell_type": "code",
   "execution_count": 17,
   "metadata": {
    "collapsed": false
   },
   "outputs": [
    {
     "data": {
      "text/plain": [
       "255"
      ]
     },
     "execution_count": 17,
     "metadata": {},
     "output_type": "execute_result"
    }
   ],
   "source": [
    "bytes([255])[0]"
   ]
  },
  {
   "cell_type": "code",
   "execution_count": null,
   "metadata": {
    "collapsed": true
   },
   "outputs": [],
   "source": [
    "import threading\n",
    "%aimport -threading\n",
    "\n",
    "def readworker(packets):\n",
    "    packets = [44, 43, 19, 20, 58, 46, 47, 48, 49, 50, 51, 45]\n",
    "    ser.write(query.stream(packets))\n",
    "    # Align the data:\n",
    "    read_data = bytes([])\n",
    "    aligned = False\n",
    "    while not aligned:\n",
    "        read_data = ser.read(32)\n",
    "        \n",
    "        "
   ]
  }
 ],
 "metadata": {
  "kernelspec": {
   "display_name": "Python 3",
   "language": "python",
   "name": "python3"
  },
  "language_info": {
   "codemirror_mode": {
    "name": "ipython",
    "version": 3
   },
   "file_extension": ".py",
   "mimetype": "text/x-python",
   "name": "python",
   "nbconvert_exporter": "python",
   "pygments_lexer": "ipython3",
   "version": "3.5.1"
  }
 },
 "nbformat": 4,
 "nbformat_minor": 0
}
