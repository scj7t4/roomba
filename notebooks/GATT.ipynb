{
 "cells": [
  {
   "cell_type": "code",
   "execution_count": 1,
   "metadata": {
    "collapsed": true
   },
   "outputs": [],
   "source": [
    "import bluepy"
   ]
  },
  {
   "cell_type": "code",
   "execution_count": 47,
   "metadata": {
    "collapsed": false
   },
   "outputs": [],
   "source": [
    "peri = bluepy.btle.Peripheral('00:1B:35:0F:8A:F7')"
   ]
  },
  {
   "cell_type": "code",
   "execution_count": 48,
   "metadata": {
    "collapsed": false
   },
   "outputs": [
    {
     "name": "stdout",
     "output_type": "stream",
     "text": [
      "Service <uuid=Generic Access handleStart=1 handleEnd=11>\n",
      "Service <uuid=f350 handleStart=35 handleEnd=59>\n",
      "Service <uuid=Generic Attribute handleStart=12 handleEnd=15>\n",
      "Service <uuid=Battery Service handleStart=60 handleEnd=65535>\n",
      "Service <uuid=Device Information handleStart=16 handleEnd=34>\n"
     ]
    }
   ],
   "source": [
    "serv = peri.getServices()\n",
    "for e in map(lambda x: str(x), serv):\n",
    "    print(e)"
   ]
  },
  {
   "cell_type": "code",
   "execution_count": 49,
   "metadata": {
    "collapsed": false
   },
   "outputs": [
    {
     "name": "stdout",
     "output_type": "stream",
     "text": [
      "Characteristic <Device Name> READ \n",
      "Characteristic <Appearance> READ \n",
      "Characteristic <Peripheral Privacy Flag> READ WRITE \n",
      "Characteristic <Reconnection Address> WRITE \n",
      "Characteristic <Peripheral Preferred Connection Parameters> READ \n",
      "Characteristic <Service Changed> INDICATE \n",
      "Characteristic <System ID> READ \n",
      "Characteristic <Model Number String> READ \n",
      "Characteristic <Serial Number String> READ \n",
      "Characteristic <Firmware Revision String> READ \n",
      "Characteristic <Hardware Revision String> READ \n",
      "Characteristic <Software Revision String> READ \n",
      "Characteristic <Manufacturer Name String> READ \n",
      "Characteristic <IEEE 11073-20601 Regulatory Certification Data List> READ \n",
      "Characteristic <PnP ID> READ \n",
      "Characteristic <f3ff> NOTIFY \n",
      "Characteristic <f351> READ WRITE \n",
      "Characteristic <f352> READ WRITE \n",
      "Characteristic <f353> READ WRITE \n",
      "Characteristic <f354> READ WRITE \n",
      "Characteristic <f355> READ WRITE \n",
      "Characteristic <f356> READ WRITE \n",
      "Characteristic <f357> READ WRITE \n",
      "Characteristic <f358> READ WRITE \n",
      "Characteristic <f359> READ WRITE \n",
      "Characteristic <f35a> READ WRITE \n",
      "Characteristic <f35b> READ WRITE \n",
      "Characteristic <Battery Level> NOTIFY READ \n"
     ]
    }
   ],
   "source": [
    "char = peri.getCharacteristics()\n",
    "for e in char:\n",
    "    print(\"{} {}\".format(str(e),e.propertiesToString()))"
   ]
  },
  {
   "cell_type": "code",
   "execution_count": 60,
   "metadata": {
    "collapsed": false
   },
   "outputs": [
    {
     "name": "stdout",
     "output_type": "stream",
     "text": [
      "b'\\x0c\\x80'\n"
     ]
    }
   ],
   "source": [
    "beacon_rate = peri.getCharacteristics(uuid='f356')[0]\n",
    "print(beacon_rate.read())"
   ]
  },
  {
   "cell_type": "code",
   "execution_count": 68,
   "metadata": {
    "collapsed": false
   },
   "outputs": [
    {
     "name": "stdout",
     "output_type": "stream",
     "text": [
      "b'\\x0c\\x81'\n",
      "Characteristic <f356>\n"
     ]
    }
   ],
   "source": [
    "rate = 3201\n",
    "tosend = rate.to_bytes(2, byteorder='big')\n",
    "print(tosend)\n",
    "print(beacon_rate)"
   ]
  },
  {
   "cell_type": "code",
   "execution_count": 69,
   "metadata": {
    "collapsed": false
   },
   "outputs": [],
   "source": [
    "beacon_rate.write(tosend)"
   ]
  },
  {
   "cell_type": "code",
   "execution_count": 70,
   "metadata": {
    "collapsed": false
   },
   "outputs": [
    {
     "data": {
      "text/plain": [
       "b'\\x0c\\x80'"
      ]
     },
     "execution_count": 70,
     "metadata": {},
     "output_type": "execute_result"
    }
   ],
   "source": [
    "beacon_rate.read()"
   ]
  },
  {
   "cell_type": "code",
   "execution_count": 71,
   "metadata": {
    "collapsed": true
   },
   "outputs": [],
   "source": [
    "peri.disconnect()"
   ]
  },
  {
   "cell_type": "code",
   "execution_count": null,
   "metadata": {
    "collapsed": true
   },
   "outputs": [],
   "source": []
  }
 ],
 "metadata": {
  "kernelspec": {
   "display_name": "Python 3",
   "language": "python",
   "name": "python3"
  },
  "language_info": {
   "codemirror_mode": {
    "name": "ipython",
    "version": 3
   },
   "file_extension": ".py",
   "mimetype": "text/x-python",
   "name": "python",
   "nbconvert_exporter": "python",
   "pygments_lexer": "ipython3",
   "version": "3.5.1"
  }
 },
 "nbformat": 4,
 "nbformat_minor": 0
}
